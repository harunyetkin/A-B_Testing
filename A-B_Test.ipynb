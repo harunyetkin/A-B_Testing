{
 "cells": [
  {
   "cell_type": "markdown",
   "id": "a601b9cf-ebf5-4e9b-8452-4db042ae3fb7",
   "metadata": {},
   "source": [
    "**İmports and Reading Dataset**"
   ]
  },
  {
   "cell_type": "code",
   "execution_count": null,
   "id": "487bea9f-b878-4e25-a3bd-d8c4317e13d9",
   "metadata": {},
   "outputs": [],
   "source": [
    "import pandas as pd\n",
    "import numpy as np\n",
    "import pandas as pd\n",
    "import matplotlib.pyplot as plt\n",
    "from scipy.stats import shapiro, levene, ttest_ind\n",
    "\n",
    "\n",
    "pd.set_option('display.max_columns', None)\n",
    "pd.set_option('display.expand_frame_repr', False)\n",
    "pd.set_option('display.float_format', lambda x: '%.5f' % x)\n",
    "\n",
    "dataframe_control = pd.read_excel(\"ab_testing.xlsx\" , sheet_name=\"Control Group\")\n",
    "dataframe_test = pd.read_excel(\"ab_testing.xlsx\" , sheet_name=\"Test Group\")\n",
    "\n",
    "df_control = dataframe_control.copy()\n",
    "df_test = dataframe_test.copy()"
   ]
  },
  {
   "cell_type": "markdown",
   "id": "fba76c5d-33fe-47bd-8dbe-29517dccb89e",
   "metadata": {},
   "source": [
    "**General İnformation of Dataset**"
   ]
  },
  {
   "cell_type": "code",
   "execution_count": 2,
   "id": "6bb9d9bf-fca6-4224-a365-22ddc79306a6",
   "metadata": {},
   "outputs": [
    {
     "name": "stdout",
     "output_type": "stream",
     "text": [
      "###############################    Shape  ##################################\n",
      "(40, 4)\n",
      "###############################    Types  ##################################\n",
      "Impression    float64\n",
      "Click         float64\n",
      "Purchase      float64\n",
      "Earning       float64\n",
      "dtype: object\n",
      "###############################    Head   ##################################\n",
      "    Impression      Click  Purchase    Earning\n",
      "0  82529.45927 6090.07732 665.21125 2311.27714\n",
      "1  98050.45193 3382.86179 315.08489 1742.80686\n",
      "2  82696.02355 4167.96575 458.08374 1797.82745\n",
      "3 109914.40040 4910.88224 487.09077 1696.22918\n",
      "4 108457.76263 5987.65581 441.03405 1543.72018\n",
      "###############################    Tail   ##################################\n",
      "     Impression      Click  Purchase    Earning\n",
      "35 132064.21900 3747.15754 551.07241 2256.97559\n",
      "36  86409.94180 4608.25621 345.04603 1781.35769\n",
      "37 123678.93423 3649.07379 476.16813 2187.72122\n",
      "38 101997.49410 4736.35337 474.61354 2254.56383\n",
      "39 121085.88122 4285.17861 590.40602 1289.30895\n",
      "###############################    NA     ##################################\n",
      "Impression    0\n",
      "Click         0\n",
      "Purchase      0\n",
      "Earning       0\n",
      "dtype: int64\n",
      "############################### Quantiles ##################################\n",
      "              count         mean         std         min          0%          5%         50%          95%          99%         100%          max\n",
      "Impression 40.00000 101711.44907 20302.15786 45475.94296 45475.94296 79412.01792 99790.70108 132950.53245 143105.79110 147539.33633 147539.33633\n",
      "Click      40.00000   5100.65737  1329.98550  2189.75316  2189.75316  3367.48426  5001.22060   7374.36120   7761.79511   7959.12507   7959.12507\n",
      "Purchase   40.00000    550.89406   134.10820   267.02894   267.02894   328.66242   531.20631    748.27076    790.18779    801.79502    801.79502\n",
      "Earning    40.00000   1908.56830   302.91778  1253.98952  1253.98952  1329.57708  1975.16052   2318.52850   2481.30874   2497.29522   2497.29522\n",
      "###############################    Shape  ##################################\n",
      "(40, 4)\n",
      "###############################    Types  ##################################\n",
      "Impression    float64\n",
      "Click         float64\n",
      "Purchase      float64\n",
      "Earning       float64\n",
      "dtype: object\n",
      "###############################    Head   ##################################\n",
      "    Impression      Click  Purchase    Earning\n",
      "0 120103.50380 3216.54796 702.16035 1939.61124\n",
      "1 134775.94336 3635.08242 834.05429 2929.40582\n",
      "2 107806.62079 3057.14356 422.93426 2526.24488\n",
      "3 116445.27553 4650.47391 429.03353 2281.42857\n",
      "4 145082.51684 5201.38772 749.86044 2781.69752\n",
      "###############################    Tail   ##################################\n",
      "     Impression      Click  Purchase    Earning\n",
      "35  79234.91193 6002.21358 382.04712 2277.86398\n",
      "36 130702.23941 3626.32007 449.82459 2530.84133\n",
      "37 116481.87337 4702.78247 472.45373 2597.91763\n",
      "38  79033.83492 4495.42818 425.35910 2595.85788\n",
      "39 102257.45409 4800.06832 521.31073 2967.51839\n",
      "###############################    NA     ##################################\n",
      "Impression    0\n",
      "Click         0\n",
      "Purchase      0\n",
      "Earning       0\n",
      "dtype: int64\n",
      "############################### Quantiles ##################################\n",
      "              count         mean         std         min          0%          5%          50%          95%          99%         100%          max\n",
      "Impression 40.00000 120512.41176 18807.44871 79033.83492 79033.83492 83150.50378 119291.30077 153178.69106 158245.26380 158605.92048 158605.92048\n",
      "Click      40.00000   3967.54976   923.09507  1836.62986  1836.62986  2600.36102   3931.35980   5271.18691   6012.87730   6019.69508   6019.69508\n",
      "Purchase   40.00000    582.10610   161.15251   311.62952   311.62952   356.69540    551.35573    854.20895    876.57610    889.91046    889.91046\n",
      "Earning    40.00000   2514.89073   282.73085  1939.61124  1939.61124  2080.97621   2544.66611   2931.31145   3091.94089   3171.48971   3171.48971\n"
     ]
    }
   ],
   "source": [
    "def information(df):\n",
    "    print(\"###############################    Shape  ##################################\")\n",
    "    print(df.shape)\n",
    "    print(\"###############################    Types  ##################################\")\n",
    "    print(df.dtypes)\n",
    "    print(\"###############################    Head   ##################################\")\n",
    "    print(df.head())\n",
    "    print(\"###############################    Tail   ##################################\")\n",
    "    print(df.tail())\n",
    "    print(\"###############################    NA     ##################################\")\n",
    "    print(df.isnull().sum())\n",
    "    print(\"############################### Quantiles ##################################\")\n",
    "    print(df.describe([0, 0.05, 0.50, 0.95, 0.99, 1]).T)\n",
    "\n",
    "information(df_control)\n",
    "information(df_test)"
   ]
  },
  {
   "cell_type": "markdown",
   "id": "7431760f-871e-4225-8af2-15d5629034e8",
   "metadata": {},
   "source": [
    "**Concatenation of Datasets**"
   ]
  },
  {
   "cell_type": "code",
   "execution_count": 3,
   "id": "4cac952b-f614-4d7b-a05d-a2e3b5aed943",
   "metadata": {},
   "outputs": [
    {
     "data": {
      "text/html": [
       "<div>\n",
       "<style scoped>\n",
       "    .dataframe tbody tr th:only-of-type {\n",
       "        vertical-align: middle;\n",
       "    }\n",
       "\n",
       "    .dataframe tbody tr th {\n",
       "        vertical-align: top;\n",
       "    }\n",
       "\n",
       "    .dataframe thead th {\n",
       "        text-align: right;\n",
       "    }\n",
       "</style>\n",
       "<table border=\"1\" class=\"dataframe\">\n",
       "  <thead>\n",
       "    <tr style=\"text-align: right;\">\n",
       "      <th></th>\n",
       "      <th>Impression</th>\n",
       "      <th>Click</th>\n",
       "      <th>Purchase</th>\n",
       "      <th>Earning</th>\n",
       "      <th>group</th>\n",
       "    </tr>\n",
       "  </thead>\n",
       "  <tbody>\n",
       "    <tr>\n",
       "      <th>0</th>\n",
       "      <td>82529.45927</td>\n",
       "      <td>6090.07732</td>\n",
       "      <td>665.21125</td>\n",
       "      <td>2311.27714</td>\n",
       "      <td>Control</td>\n",
       "    </tr>\n",
       "    <tr>\n",
       "      <th>1</th>\n",
       "      <td>98050.45193</td>\n",
       "      <td>3382.86179</td>\n",
       "      <td>315.08489</td>\n",
       "      <td>1742.80686</td>\n",
       "      <td>Control</td>\n",
       "    </tr>\n",
       "    <tr>\n",
       "      <th>2</th>\n",
       "      <td>82696.02355</td>\n",
       "      <td>4167.96575</td>\n",
       "      <td>458.08374</td>\n",
       "      <td>1797.82745</td>\n",
       "      <td>Control</td>\n",
       "    </tr>\n",
       "    <tr>\n",
       "      <th>3</th>\n",
       "      <td>109914.40040</td>\n",
       "      <td>4910.88224</td>\n",
       "      <td>487.09077</td>\n",
       "      <td>1696.22918</td>\n",
       "      <td>Control</td>\n",
       "    </tr>\n",
       "    <tr>\n",
       "      <th>4</th>\n",
       "      <td>108457.76263</td>\n",
       "      <td>5987.65581</td>\n",
       "      <td>441.03405</td>\n",
       "      <td>1543.72018</td>\n",
       "      <td>Control</td>\n",
       "    </tr>\n",
       "  </tbody>\n",
       "</table>\n",
       "</div>"
      ],
      "text/plain": [
       "    Impression      Click  Purchase    Earning    group\n",
       "0  82529.45927 6090.07732 665.21125 2311.27714  Control\n",
       "1  98050.45193 3382.86179 315.08489 1742.80686  Control\n",
       "2  82696.02355 4167.96575 458.08374 1797.82745  Control\n",
       "3 109914.40040 4910.88224 487.09077 1696.22918  Control\n",
       "4 108457.76263 5987.65581 441.03405 1543.72018  Control"
      ]
     },
     "execution_count": 3,
     "metadata": {},
     "output_type": "execute_result"
    }
   ],
   "source": [
    "df_control[\"group\"] = \"Control\"\n",
    "df_test[\"group\"] = \"Test\"\n",
    "\n",
    "df = pd.concat([df_control,df_test], axis=0,ignore_index=False)\n",
    "df.head()"
   ]
  },
  {
   "cell_type": "markdown",
   "id": "f91f8325-1a72-4baa-baf2-e7135daba00a",
   "metadata": {},
   "source": [
    "**Defining the A/B Test Hypothesis**"
   ]
  },
  {
   "cell_type": "markdown",
   "id": "4d7aa8b0-2e09-435d-91db-a2b8dae8bbd3",
   "metadata": {},
   "source": [
    "H0: M1 = M2\n",
    "\n",
    "There is no difference between the purchasing averages of the control group and the test group.\n",
    "\n",
    "H1: M1 != M2\n",
    "\n",
    "There is a difference between the purchasing averages of the control group and the test group.\n"
   ]
  },
  {
   "cell_type": "code",
   "execution_count": 4,
   "id": "39e1510a-24fd-4ffb-a08a-9e7948da35a4",
   "metadata": {},
   "outputs": [
    {
     "data": {
      "text/html": [
       "<div>\n",
       "<style scoped>\n",
       "    .dataframe tbody tr th:only-of-type {\n",
       "        vertical-align: middle;\n",
       "    }\n",
       "\n",
       "    .dataframe tbody tr th {\n",
       "        vertical-align: top;\n",
       "    }\n",
       "\n",
       "    .dataframe thead th {\n",
       "        text-align: right;\n",
       "    }\n",
       "</style>\n",
       "<table border=\"1\" class=\"dataframe\">\n",
       "  <thead>\n",
       "    <tr style=\"text-align: right;\">\n",
       "      <th></th>\n",
       "      <th>Purchase</th>\n",
       "    </tr>\n",
       "    <tr>\n",
       "      <th>group</th>\n",
       "      <th></th>\n",
       "    </tr>\n",
       "  </thead>\n",
       "  <tbody>\n",
       "    <tr>\n",
       "      <th>Control</th>\n",
       "      <td>550.89406</td>\n",
       "    </tr>\n",
       "    <tr>\n",
       "      <th>Test</th>\n",
       "      <td>582.10610</td>\n",
       "    </tr>\n",
       "  </tbody>\n",
       "</table>\n",
       "</div>"
      ],
      "text/plain": [
       "         Purchase\n",
       "group            \n",
       "Control 550.89406\n",
       "Test    582.10610"
      ]
     },
     "execution_count": 4,
     "metadata": {},
     "output_type": "execute_result"
    }
   ],
   "source": [
    "df.groupby(\"group\").agg({\"Purchase\": \"mean\"})"
   ]
  },
  {
   "cell_type": "markdown",
   "id": "7803682b-3f5a-49af-80f0-6c138ddefeca",
   "metadata": {},
   "source": [
    "We do not know whether this difference statistically actually exists. To demonstrate this the reality of the difference, we must perform hypothesis testing."
   ]
  },
  {
   "cell_type": "markdown",
   "id": "d6b2ef29-40ac-4996-a2ec-8bb67b314d1f",
   "metadata": {},
   "source": [
    "**Performing Hypothesis Testing**"
   ]
  },
  {
   "cell_type": "markdown",
   "id": "87ab680e-f9f7-458b-8753-d68afa5fdf18",
   "metadata": {},
   "source": [
    "Before testing the hypothesis, check the assumptions. These are Assumption of Normality and Homogeneity of Variance."
   ]
  },
  {
   "cell_type": "markdown",
   "id": "fa3227fc-2a73-49bd-8b36-056fffabd15c",
   "metadata": {},
   "source": [
    "**Normality Assumption**\n",
    "\n",
    "H0: Normal distribution assumption is provided.\n",
    "\n",
    "H1: Normal distribution assumption not provided\n",
    "\n",
    "p < 0.05 H0 REJECTABLE\n",
    "\n",
    "p > 0.05 H0 CANNOT BE REJECTED"
   ]
  },
  {
   "cell_type": "code",
   "execution_count": 6,
   "id": "86f1b4a0-6f96-4389-8794-22c93e4af801",
   "metadata": {},
   "outputs": [
    {
     "name": "stdout",
     "output_type": "stream",
     "text": [
      "Test Stat = 0.9773, p-value = 0.5891\n"
     ]
    }
   ],
   "source": [
    "test_stat, pvalue = shapiro(df.loc[df[\"group\"] == \"Control\", \"Purchase\"])\n",
    "print('Test Stat = %.4f, p-value = %.4f' % (test_stat, pvalue))"
   ]
  },
  {
   "cell_type": "markdown",
   "id": "980637c2-6725-4f58-84d7-3450ccec7157",
   "metadata": {},
   "source": [
    "H0 CANNOT BE REJECTED"
   ]
  },
  {
   "cell_type": "code",
   "execution_count": 7,
   "id": "ce734b2e-a724-4617-a899-8115d497930e",
   "metadata": {},
   "outputs": [
    {
     "name": "stdout",
     "output_type": "stream",
     "text": [
      "Test Stat = 0.9589, p-value = 0.1541\n"
     ]
    }
   ],
   "source": [
    "test_stat, pvalue = shapiro(df.loc[df[\"group\"] == \"Test\", \"Purchase\"])\n",
    "print('Test Stat = %.4f, p-value = %.4f' % (test_stat, pvalue))"
   ]
  },
  {
   "cell_type": "markdown",
   "id": "014e12e3-03b1-4dd1-bc58-a021b0d88534",
   "metadata": {},
   "source": [
    "H0 CANNOT BE REJECTED"
   ]
  },
  {
   "cell_type": "markdown",
   "id": "cd211c1b-51d2-4e3d-9bb6-151d4b2456e3",
   "metadata": {},
   "source": [
    "We can say that the values of the control and test groups provide the assumption of normal distribution."
   ]
  },
  {
   "cell_type": "markdown",
   "id": "b6c613da-f6d3-467b-9999-2e497e317f7b",
   "metadata": {},
   "source": [
    "**Variance Homogeneity**\n",
    "\n",
    "H0: Variances are homogeneous.\n",
    "\n",
    "H1: Variances are not homogeneous.\n",
    "\n",
    "p < 0.05 H0 REJECTABLE\n",
    "\n",
    "p > 0.05 H0 CANNOT BE REJECTED"
   ]
  },
  {
   "cell_type": "markdown",
   "id": "4fd22cf9-2ad9-49c0-a9bf-e32eec3d0bd9",
   "metadata": {},
   "source": [
    "Both assumptions are provided so, we'll use Parametric T-test"
   ]
  },
  {
   "cell_type": "markdown",
   "id": "4ef16df2-c020-429e-9b74-f09898c052a3",
   "metadata": {},
   "source": [
    "**Independent two-sample t-test (Parametric test)**"
   ]
  },
  {
   "cell_type": "code",
   "execution_count": 10,
   "id": "6a1ea3ba-defb-4da4-b7b2-09093413b4fc",
   "metadata": {},
   "outputs": [
    {
     "name": "stdout",
     "output_type": "stream",
     "text": [
      "Test Stat = -0.9416, p-value = 0.3493\n"
     ]
    }
   ],
   "source": [
    "test_stat, pvalue = ttest_ind(df.loc[df[\"group\"] == \"Control\", 'Purchase'],\n",
    "                           df.loc[df[\"group\"] == \"Test\", 'Purchase'],\n",
    "                              equal_var=True)\n",
    "\n",
    "print('Test Stat = %.4f, p-value = %.4f' % (test_stat, pvalue))"
   ]
  },
  {
   "cell_type": "markdown",
   "id": "bca5e9c1-7ae7-4610-a7b3-08eacaa88b7f",
   "metadata": {},
   "source": [
    "p-value > 0.05 \n",
    "\n",
    "H0 CANNOT BE REJECTED\n",
    "\n",
    "There is no real purchase difference between, maximum and average bidding types."
   ]
  },
  {
   "cell_type": "code",
   "execution_count": null,
   "id": "1acbb730-ca7b-4ecb-b82c-35621d13ea75",
   "metadata": {},
   "outputs": [],
   "source": []
  }
 ],
 "metadata": {
  "kernelspec": {
   "display_name": "Python 3 (ipykernel)",
   "language": "python",
   "name": "python3"
  },
  "language_info": {
   "codemirror_mode": {
    "name": "ipython",
    "version": 3
   },
   "file_extension": ".py",
   "mimetype": "text/x-python",
   "name": "python",
   "nbconvert_exporter": "python",
   "pygments_lexer": "ipython3",
   "version": "3.9.12"
  }
 },
 "nbformat": 4,
 "nbformat_minor": 5
}
